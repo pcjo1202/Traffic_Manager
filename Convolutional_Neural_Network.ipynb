{
  "nbformat": 4,
  "nbformat_minor": 0,
  "metadata": {
    "colab": {
      "provenance": [],
      "gpuType": "T4",
      "authorship_tag": "ABX9TyO99dZbvYZpEsVNQ8yIpQ5n",
      "include_colab_link": true
    },
    "kernelspec": {
      "name": "python3",
      "display_name": "Python 3"
    },
    "language_info": {
      "name": "python"
    },
    "accelerator": "GPU"
  },
  "cells": [
    {
      "cell_type": "markdown",
      "metadata": {
        "id": "view-in-github",
        "colab_type": "text"
      },
      "source": [
        "<a href=\"https://colab.research.google.com/github/pcjo1202/Traffic_Manager/blob/main/Convolutional_Neural_Network.ipynb\" target=\"_parent\"><img src=\"https://colab.research.google.com/assets/colab-badge.svg\" alt=\"Open In Colab\"/></a>"
      ]
    },
    {
      "cell_type": "code",
      "execution_count": null,
      "metadata": {
        "colab": {
          "base_uri": "https://localhost:8080/"
        },
        "id": "Rw0F4dtoLwyK",
        "outputId": "3c064a44-56a1-49c2-af16-1d3e8d5ad83c"
      },
      "outputs": [
        {
          "output_type": "stream",
          "name": "stdout",
          "text": [
            "Drive already mounted at /content/drive; to attempt to forcibly remount, call drive.mount(\"/content/drive\", force_remount=True).\n"
          ]
        }
      ],
      "source": [
        "import torch\n",
        "import torchvision.datasets as dsets\n",
        "import torchvision.transforms as transforms\n",
        "from torchvision.datasets import ImageFolder\n",
        "import torch.nn.init\n",
        "# 구글 드라이브 마운트\n",
        "from google.colab import drive\n",
        "drive.mount('/content/drive')\n",
        "\n",
        "device = 'cuda' if torch.cuda.is_available() else 'cpu'\n",
        "\n",
        "# 랜덤 시드 고정\n",
        "torch.manual_seed(777)\n",
        "\n",
        "# GPU 사용 가능일 경우 랜덤 시드 고정\n",
        "if device == 'cuda':\n",
        "    torch.cuda.manual_seed_all(777)"
      ]
    },
    {
      "cell_type": "markdown",
      "source": [
        "학습에 사용할 파라미터 설정."
      ],
      "metadata": {
        "id": "L1HTVwyKTh04"
      }
    },
    {
      "cell_type": "code",
      "source": [
        "learning_rate = 0.001\n",
        "training_epochs = 15\n",
        "batch_size = 100"
      ],
      "metadata": {
        "id": "FraNTFteMhQ7"
      },
      "execution_count": null,
      "outputs": []
    },
    {
      "cell_type": "code",
      "source": [
        "data_train = '/content/drive/MyDrive/CNN/train'  # 데이터가 있는 경로\n",
        "data_test = '/content/drive/My Drive/CNN/test'\n",
        "\n",
        "# 데이터셋에 적용할 변환 정의\n",
        "transform = transforms.Compose([\n",
        "    transforms.Resize((64, 64)),\n",
        "    transforms.ToTensor(),  # 텐서로 변환\n",
        "])"
      ],
      "metadata": {
        "id": "oecWAcOCra7b"
      },
      "execution_count": null,
      "outputs": []
    },
    {
      "cell_type": "markdown",
      "source": [
        "%cd /content/drive/MyDrive/CNN\n",
        "!unzip -qq \"/content/drive/MyDrive/CNN/train.zip\""
      ],
      "metadata": {
        "id": "4E8ucKZD6psN"
      }
    },
    {
      "cell_type": "markdown",
      "source": [
        "데이터셋 불러오기"
      ],
      "metadata": {
        "id": "GXAdkg9CTqMM"
      }
    },
    {
      "cell_type": "code",
      "source": [
        "# ImageFolder를 사용하여 train 데이터 불러오기\n",
        "train_dataset = dsets.ImageFolder(root=data_train, transform=transform)\n",
        "\n",
        "# ImageFolder를 사용하여 test 데이터 불러오기\n",
        "test_dataset = dsets.ImageFolder(root=data_test, transform=transform)"
      ],
      "metadata": {
        "id": "9RPvCwVHx8nm"
      },
      "execution_count": null,
      "outputs": []
    },
    {
      "cell_type": "markdown",
      "source": [
        "데이터로더를 사용하여 배치 크기를 지정"
      ],
      "metadata": {
        "id": "hFpZO_wbTvOs"
      }
    },
    {
      "cell_type": "code",
      "source": [
        "# 데이터로더 생성\n",
        "train_dataloader = torch.utils.data.DataLoader(train_dataset, batch_size=batch_size, shuffle=True, drop_last=True)\n",
        "test_dataloader = torch.utils.data.DataLoader(test_dataset, batch_size=batch_size, shuffle=False, drop_last=True)"
      ],
      "metadata": {
        "id": "ZrV0gP0z1drz"
      },
      "execution_count": null,
      "outputs": []
    },
    {
      "cell_type": "markdown",
      "source": [
        "import torch\n",
        "import torch.nn as nn\n",
        "# 배치 크기 × 채널 × 높이(height) × 너비(widht)의 크기의 텐서를 선언\n",
        "inputs = torch.Tensor(100, 3, 224, 224)\n",
        "print('텐서의 크기 : {}'.format(inputs.shape))\n",
        "-텐서의 크기 : torch.Size([100, 3, 224, 224])\n",
        "conv1 = nn.Conv2d(3, 16, 3, padding=1)\n",
        "print(conv1)\n",
        "-Conv2d(3, 16, kernel_size=(3, 3), stride=(1, 1), padding=(1, 1))\n",
        "conv2 = nn.Conv2d(16, 32, kernel_size=3, padding=1)\n",
        "print(conv2)\n",
        "output\n",
        "Conv2d(16, 32, kernel_size=(3, 3), stride=(1, 1), padding=(1, 1))\n",
        "pool = nn.MaxPool2d(2)\n",
        "print(pool)\n",
        "-MaxPool2d(kernel_size=2, stride=2, padding=0, dilation=1, ceil_mode=False)\n",
        "out = conv1(inputs)\n",
        "print(out.shape)\n",
        "-torch.Size([100, 16, 224, 224])\n",
        "out = pool(out)\n",
        "print(out.shape)\n",
        "-torch.Size([100, 16, 112, 112])\n",
        "out = conv2(out)\n",
        "print(out.shape)\n",
        "-torch.Size([100, 32, 112, 112])\n",
        "out = pool(out)\n",
        "print(out.shape)\n",
        "-torch.Size([100, 32, 56, 56])\n",
        "\n",
        "out.size(0)\n",
        "-100\n",
        "out.size(1)\n",
        "-32\n",
        "out.size(2)\n",
        "-56\n",
        "out.size(3)\n",
        "-56\n",
        "# 첫번째 차원인 배치 차원은 그대로 두고 나머지는 펼쳐라\n",
        "out = out.view(out.size(0), -1)\n",
        "print(out.shape)\n",
        "-torch.Size([100, 100352])\n",
        "fc = nn.Linear(100352, 100) # input_dim = 3,136, output_dim = 10\n",
        "out = fc(out)\n",
        "print(out.shape)\n",
        "-torch.Size([100, 100])"
      ],
      "metadata": {
        "id": "7SYalCcoXexZ"
      }
    },
    {
      "cell_type": "markdown",
      "source": [
        "클래스로 모델을 설계"
      ],
      "metadata": {
        "id": "qw7ZBwTHT6Qh"
      }
    },
    {
      "cell_type": "code",
      "source": [
        "class CNN(torch.nn.Module):\n",
        "\n",
        "    def __init__(self):\n",
        "        super(CNN, self).__init__()\n",
        "        self.keep_prob = 0.5\n",
        "\n",
        "        # L1 ImgIn shape=(?, 224, 224, 3)\n",
        "        #    Conv     -> (?, 224, 224, 16)\n",
        "        #    Pool     -> (?, 112, 112, 16)\n",
        "        self.layer1 = torch.nn.Sequential(\n",
        "            torch.nn.Conv2d(3, 8, kernel_size=3, stride=1, padding=1),\n",
        "            torch.nn.ReLU(),\n",
        "            torch.nn.MaxPool2d(kernel_size=2, stride=2)) # 이미지 크기 절반\n",
        "\n",
        "        # L2 ImgIn shape=(?, 112, 112, 16)\n",
        "        #    Conv     -> (?, 112, 112, 32)\n",
        "        #    Pool     -> (?, 56, 56, 32)\n",
        "        self.layer2 = torch.nn.Sequential(\n",
        "            torch.nn.Conv2d(8, 16, kernel_size=3, stride=1, padding=1),\n",
        "            torch.nn.ReLU(),\n",
        "            torch.nn.MaxPool2d(kernel_size=2, stride=2))\n",
        "\n",
        "        # L3 ImgIn shape=(?, 56, 56, 32)\n",
        "        #    Conv     -> (?, 56, 56, 64)\n",
        "        #    Pool     -> (?, 28, 28, 64)\n",
        "        self.layer3 = torch.nn.Sequential(\n",
        "            torch.nn.Conv2d(16, 32, kernel_size=3, stride=1, padding=1),\n",
        "            torch.nn.ReLU(),\n",
        "            torch.nn.MaxPool2d(kernel_size=2, stride=2, padding=1))\n",
        "\n",
        "        self.fc1 = torch.nn.Linear( 9 *  9 * 32, 100, bias=True)\n",
        "        # 전결합층 한정으로 가중치 초기화\n",
        "        torch.nn.init.xavier_uniform_(self.fc1.weight)\n",
        "        self.layer4 = torch.nn.Sequential(\n",
        "            self.fc1,\n",
        "            torch.nn.ReLU(),\n",
        "            torch.nn.Dropout(p=1 - self.keep_prob))\n",
        "\n",
        "        # L5 Final FC 100 inputs -> 100 outputs\n",
        "        self.fc2 = torch.nn.Linear(100, 100, bias=True)\n",
        "        torch.nn.init.xavier_uniform_(self.fc2.weight)\n",
        "\n",
        "    def forward(self, x):\n",
        "        out = self.layer1(x)\n",
        "        out = self.layer2(out)\n",
        "        out = self.layer3(out)\n",
        "        out = out.view(out.size(0), -1)   # 전결합층을 위해서 Flatten\n",
        "        out = self.layer4(out)\n",
        "        out = self.fc2(out)\n",
        "        return out"
      ],
      "metadata": {
        "id": "yoGYVbfmcJYl"
      },
      "execution_count": null,
      "outputs": []
    },
    {
      "cell_type": "markdown",
      "source": [
        "모델 정의"
      ],
      "metadata": {
        "id": "FkwyC-b1T-rw"
      }
    },
    {
      "cell_type": "code",
      "source": [
        "# CNN 모델 정의\n",
        "model = CNN().to(device)\n",
        "\n",
        "#비용 함수와 옵티마이저를 정의\n",
        "criterion = torch.nn.CrossEntropyLoss().to(device)    # 비용 함수에 소프트맥스 함수 포함되어져 있음.\n",
        "optimizer = torch.optim.Adam(model.parameters(), lr=learning_rate)\n",
        "\n",
        "#총 배치의 수 출력\n",
        "total_batch = len(train_dataloader)\n",
        "print('총 배치의 수 : {}'.format(total_batch))"
      ],
      "metadata": {
        "id": "a6Sb5-C-UArR",
        "colab": {
          "base_uri": "https://localhost:8080/"
        },
        "outputId": "08517a3c-3d6a-4694-a5d6-d4e834147a6f"
      },
      "execution_count": null,
      "outputs": [
        {
          "output_type": "stream",
          "name": "stdout",
          "text": [
            "총 배치의 수 : 134\n"
          ]
        }
      ]
    },
    {
      "cell_type": "markdown",
      "source": [
        "총 배치의 수는 134입니다. 그런데 배치 크기를 100으로 했으므로 결국 훈련 데이터는 총 13,400개란 의미입니다. 이제 모델을 훈련시켜보겠습니다."
      ],
      "metadata": {
        "id": "tSLfxKadanf6"
      }
    },
    {
      "cell_type": "code",
      "source": [
        "for epoch in range(training_epochs):\n",
        "    avg_cost = 0\n",
        "\n",
        "    for X, Y in train_dataloader: # 미니 배치 단위로 꺼내온다. X는 미니 배치, Y는 레이블.\n",
        "        # image is already size of (28x28), no reshape\n",
        "        # label is not one-hot encoded\n",
        "        X = X.to(device)\n",
        "        Y = Y.to(device)\n",
        "\n",
        "        optimizer.zero_grad()\n",
        "        hypothesis = model(X)\n",
        "        cost = criterion(hypothesis, Y)\n",
        "        cost.backward()\n",
        "        optimizer.step()\n",
        "\n",
        "        avg_cost += cost / total_batch\n",
        "\n",
        "    print('[Epoch: {:>4}] cost = {:>.9}'.format(epoch + 1, avg_cost))"
      ],
      "metadata": {
        "colab": {
          "base_uri": "https://localhost:8080/"
        },
        "id": "egEjd1t9apBx",
        "outputId": "55126327-cb28-4377-ed33-8a72633221d0"
      },
      "execution_count": null,
      "outputs": [
        {
          "output_type": "stream",
          "name": "stdout",
          "text": [
            "[Epoch:    1] cost = 4.5583272\n",
            "[Epoch:    2] cost = 4.26724863\n",
            "[Epoch:    3] cost = 4.04080772\n",
            "[Epoch:    4] cost = 3.89961195\n",
            "[Epoch:    5] cost = 3.7592175\n",
            "[Epoch:    6] cost = 3.65498805\n",
            "[Epoch:    7] cost = 3.56467652\n",
            "[Epoch:    8] cost = 3.50953865\n",
            "[Epoch:    9] cost = 3.44234252\n",
            "[Epoch:   10] cost = 3.36996412\n",
            "[Epoch:   11] cost = 3.30972743\n",
            "[Epoch:   12] cost = 3.26448655\n",
            "[Epoch:   13] cost = 3.24501228\n",
            "[Epoch:   14] cost = 3.18759608\n",
            "[Epoch:   15] cost = 3.14789701\n"
          ]
        }
      ]
    },
    {
      "cell_type": "code",
      "source": [
        "# 데이터셋에 적용할 변환 정의\n",
        "transform = transforms.Compose([\n",
        "    transforms.Resize((64, 64)),\n",
        "    transforms.ToTensor(),  # 텐서로 변환\n",
        "])\n",
        "\n",
        "# ImageFolder를 사용하여 train 데이터 불러오기\n",
        "train_dataset = dsets.ImageFolder(root=data_train, transform=transform)\n",
        "\n",
        "# 클래스 확인\n",
        "classes = train_dataset.classes\n",
        "\n",
        "# 클래스 이름과 인덱스 매핑\n",
        "class_to_idx = train_dataset.class_to_idx\n",
        "\n",
        "# 클래스 이름 및 해당 인덱스 출력\n",
        "for k, v in class_to_idx.items():\n",
        "    print(f\"Class: {k}, Index: {v}\")"
      ],
      "metadata": {
        "colab": {
          "base_uri": "https://localhost:8080/"
        },
        "id": "uG8cEipKi03U",
        "outputId": "99827c89-8c7d-4337-a449-06ded83a9c46"
      },
      "execution_count": null,
      "outputs": [
        {
          "output_type": "stream",
          "name": "stdout",
          "text": [
            "Class: air hockey, Index: 0\n",
            "Class: ampute football, Index: 1\n",
            "Class: archery, Index: 2\n",
            "Class: arm wrestling, Index: 3\n",
            "Class: axe throwing, Index: 4\n",
            "Class: balance beam, Index: 5\n",
            "Class: barell racing, Index: 6\n",
            "Class: baseball, Index: 7\n",
            "Class: basketball, Index: 8\n",
            "Class: baton twirling, Index: 9\n",
            "Class: bike polo, Index: 10\n",
            "Class: billiards, Index: 11\n",
            "Class: bmx, Index: 12\n",
            "Class: bobsled, Index: 13\n",
            "Class: bowling, Index: 14\n",
            "Class: boxing, Index: 15\n",
            "Class: bull riding, Index: 16\n",
            "Class: bungee jumping, Index: 17\n",
            "Class: canoe slamon, Index: 18\n",
            "Class: cheerleading, Index: 19\n",
            "Class: chuckwagon racing, Index: 20\n",
            "Class: cricket, Index: 21\n",
            "Class: croquet, Index: 22\n",
            "Class: curling, Index: 23\n",
            "Class: disc golf, Index: 24\n",
            "Class: fencing, Index: 25\n",
            "Class: field hockey, Index: 26\n",
            "Class: figure skating men, Index: 27\n",
            "Class: figure skating pairs, Index: 28\n",
            "Class: figure skating women, Index: 29\n",
            "Class: fly fishing, Index: 30\n",
            "Class: football, Index: 31\n",
            "Class: formula 1 racing, Index: 32\n",
            "Class: frisbee, Index: 33\n",
            "Class: gaga, Index: 34\n",
            "Class: giant slalom, Index: 35\n",
            "Class: golf, Index: 36\n",
            "Class: hammer throw, Index: 37\n",
            "Class: hang gliding, Index: 38\n",
            "Class: harness racing, Index: 39\n",
            "Class: high jump, Index: 40\n",
            "Class: hockey, Index: 41\n",
            "Class: horse jumping, Index: 42\n",
            "Class: horse racing, Index: 43\n",
            "Class: horseshoe pitching, Index: 44\n",
            "Class: hurdles, Index: 45\n",
            "Class: hydroplane racing, Index: 46\n",
            "Class: ice climbing, Index: 47\n",
            "Class: ice yachting, Index: 48\n",
            "Class: jai alai, Index: 49\n",
            "Class: javelin, Index: 50\n",
            "Class: jousting, Index: 51\n",
            "Class: judo, Index: 52\n",
            "Class: lacrosse, Index: 53\n",
            "Class: log rolling, Index: 54\n",
            "Class: luge, Index: 55\n",
            "Class: motorcycle racing, Index: 56\n",
            "Class: mushing, Index: 57\n",
            "Class: nascar racing, Index: 58\n",
            "Class: olympic wrestling, Index: 59\n",
            "Class: parallel bar, Index: 60\n",
            "Class: pole climbing, Index: 61\n",
            "Class: pole dancing, Index: 62\n",
            "Class: pole vault, Index: 63\n",
            "Class: polo, Index: 64\n",
            "Class: pommel horse, Index: 65\n",
            "Class: rings, Index: 66\n",
            "Class: rock climbing, Index: 67\n",
            "Class: roller derby, Index: 68\n",
            "Class: rollerblade racing, Index: 69\n",
            "Class: rowing, Index: 70\n",
            "Class: rugby, Index: 71\n",
            "Class: sailboat racing, Index: 72\n",
            "Class: shot put, Index: 73\n",
            "Class: shuffleboard, Index: 74\n",
            "Class: sidecar racing, Index: 75\n",
            "Class: ski jumping, Index: 76\n",
            "Class: sky surfing, Index: 77\n",
            "Class: skydiving, Index: 78\n",
            "Class: snow boarding, Index: 79\n",
            "Class: snowmobile racing, Index: 80\n",
            "Class: speed skating, Index: 81\n",
            "Class: steer wrestling, Index: 82\n",
            "Class: sumo wrestling, Index: 83\n",
            "Class: surfing, Index: 84\n",
            "Class: swimming, Index: 85\n",
            "Class: table tennis, Index: 86\n",
            "Class: tennis, Index: 87\n",
            "Class: track bicycle, Index: 88\n",
            "Class: trapeze, Index: 89\n",
            "Class: tug of war, Index: 90\n",
            "Class: ultimate, Index: 91\n",
            "Class: uneven bars, Index: 92\n",
            "Class: volleyball, Index: 93\n",
            "Class: water cycling, Index: 94\n",
            "Class: water polo, Index: 95\n",
            "Class: weightlifting, Index: 96\n",
            "Class: wheelchair basketball, Index: 97\n",
            "Class: wheelchair racing, Index: 98\n",
            "Class: wingsuit flying, Index: 99\n"
          ]
        }
      ]
    },
    {
      "cell_type": "markdown",
      "source": [
        "테스트"
      ],
      "metadata": {
        "id": "AggIYLC4a3nD"
      }
    },
    {
      "cell_type": "code",
      "source": [
        "# 학습을 진행하지 않을 것이므로 torch.no_grad()\n",
        "with torch.no_grad():\n",
        "    X_test = []\n",
        "    Y_test = []\n",
        "    for data, labels in test_dataloader:\n",
        "        data = data.to(device)\n",
        "        label = labels.to(device)\n",
        "        X_test.append(data)\n",
        "        Y_test.append(label)\n",
        "\n",
        "    X_test = torch.cat(X_test, dim=0)\n",
        "    Y_test = torch.cat(Y_test, dim=0)\n",
        "\n",
        "    prediction = model(X_test)\n",
        "    correct_prediction = torch.argmax(prediction, 1) == Y_test\n",
        "    accuracy = correct_prediction.float().mean()\n",
        "    print('Accuracy:', accuracy.item())"
      ],
      "metadata": {
        "colab": {
          "base_uri": "https://localhost:8080/"
        },
        "id": "wlUFWM5Fa461",
        "outputId": "9d8831b3-da84-4371-a972-f9ca7572978a"
      },
      "execution_count": null,
      "outputs": [
        {
          "output_type": "stream",
          "name": "stdout",
          "text": [
            "Accuracy: 0.1940000057220459\n"
          ]
        }
      ]
    },
    {
      "cell_type": "markdown",
      "source": [
        "층을 깊게 쌓는 것이 정확도를 올려주진 않음. 효율적으로 쌓는 것도 중요."
      ],
      "metadata": {
        "id": "WWZ42Zaka7kx"
      }
    }
  ]
}